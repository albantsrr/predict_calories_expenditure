{
 "cells": [
  {
   "cell_type": "code",
   "execution_count": 1,
   "metadata": {},
   "outputs": [],
   "source": [
    "import numpy as np, pandas as pd\n",
    "import glob\n",
    "import matplotlib.pyplot as plt\n",
    "pd.set_option('display.max_columns', 500)"
   ]
  },
  {
   "cell_type": "code",
   "execution_count": 2,
   "metadata": {},
   "outputs": [],
   "source": [
    "train_df = pd.read_csv('dataset/train.csv')\n",
    "test_df = pd.read_csv('dataset/test.csv')"
   ]
  },
  {
   "cell_type": "code",
   "execution_count": 15,
   "metadata": {},
   "outputs": [
    {
     "name": "stdout",
     "output_type": "stream",
     "text": [
      "Loading files...\n",
      "=> xgb \n",
      "=> cat \n"
     ]
    }
   ],
   "source": [
    "files = []\n",
    "X_train = []\n",
    "X_test = []\n",
    "PATH = \"notebooks/predictions\"\n",
    "nb_iterations = 1\n",
    "\n",
    "print(\"Loading files...\")\n",
    "for c in ['xgb','cat']:\n",
    "    for i in range(1, nb_iterations + 1):\n",
    "        print(f\"=> {c} \",end=\"\")\n",
    "        oof = np.load(f\"{PATH}/oof/{c}_oof_predictions_{i}.npy\")\n",
    "        # IF NOT LOG1P THEN APPLY LOG1P\n",
    "        if oof.mean()>10: oof = np.log1p(oof)\n",
    "        X_train.append(oof)\n",
    "        files.append(f\"oof_{c}\")\n",
    "        df = pd.read_csv(f\"{PATH}/submissions/{c}_submission_{i}.csv\")\n",
    "        pred = np.log1p( df.Calories.values )\n",
    "        X_test.append(pred)\n",
    "        print()"
   ]
  },
  {
   "cell_type": "code",
   "execution_count": 16,
   "metadata": {},
   "outputs": [
    {
     "name": "stdout",
     "output_type": "stream",
     "text": [
      "Our combined OOF have shape: (250000, 2)\n",
      "Our combined PRED have shape: (250000, 2)\n"
     ]
    }
   ],
   "source": [
    "x_train = np.stack(X_train).T\n",
    "print(\"Our combined OOF have shape:\",x_train.shape)\n",
    "\n",
    "x_test = np.stack(X_test).T\n",
    "print(\"Our combined PRED have shape:\",x_test.shape)"
   ]
  }
 ],
 "metadata": {
  "kernelspec": {
   "display_name": "venv",
   "language": "python",
   "name": "python3"
  },
  "language_info": {
   "codemirror_mode": {
    "name": "ipython",
    "version": 3
   },
   "file_extension": ".py",
   "mimetype": "text/x-python",
   "name": "python",
   "nbconvert_exporter": "python",
   "pygments_lexer": "ipython3",
   "version": "3.12.3"
  }
 },
 "nbformat": 4,
 "nbformat_minor": 2
}
