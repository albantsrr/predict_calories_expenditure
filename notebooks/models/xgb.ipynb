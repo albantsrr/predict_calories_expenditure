{
 "cells": [
  {
   "cell_type": "markdown",
   "metadata": {},
   "source": [
    "# XGBOOST TRAINING "
   ]
  },
  {
   "cell_type": "code",
   "execution_count": 1,
   "metadata": {},
   "outputs": [],
   "source": [
    "from sklearn.model_selection import KFold\n",
    "from sklearn.model_selection import StratifiedKFold\n",
    "from xgboost import XGBRegressor\n",
    "from sklearn.metrics import mean_squared_error\n",
    "import numpy as np\n",
    "import time\n",
    "import pandas as pd \n"
   ]
  },
  {
   "cell_type": "code",
   "execution_count": 2,
   "metadata": {},
   "outputs": [],
   "source": [
    "X = pd.read_csv('../data/X.csv')\n",
    "y = pd.read_csv('../data/y.csv')\n",
    "X_test = pd.read_csv('../data/X_test.csv')"
   ]
  },
  {
   "cell_type": "code",
   "execution_count": 3,
   "metadata": {},
   "outputs": [
    {
     "name": "stdout",
     "output_type": "stream",
     "text": [
      "\n",
      "==================== Fold 1/5 ====================\n",
      "[0]\tvalidation_0-rmse:0.94457\n",
      "[100]\tvalidation_0-rmse:0.14175\n",
      "[200]\tvalidation_0-rmse:0.06232\n",
      "[300]\tvalidation_0-rmse:0.05965\n",
      "[400]\tvalidation_0-rmse:0.05956\n",
      "[500]\tvalidation_0-rmse:0.05956\n",
      "[593]\tvalidation_0-rmse:0.05957\n",
      "Fold 0:\n",
      "RMSE: 0.0596\n",
      "Training time: 15.20 seconds\n",
      "\n",
      "==================== Fold 2/5 ====================\n",
      "[0]\tvalidation_0-rmse:0.94421\n",
      "[100]\tvalidation_0-rmse:0.14197\n",
      "[200]\tvalidation_0-rmse:0.06237\n",
      "[300]\tvalidation_0-rmse:0.05964\n",
      "[400]\tvalidation_0-rmse:0.05954\n",
      "[500]\tvalidation_0-rmse:0.05954\n",
      "[552]\tvalidation_0-rmse:0.05955\n",
      "Fold 1:\n",
      "RMSE: 0.0595\n",
      "Training time: 14.51 seconds\n",
      "\n",
      "==================== Fold 3/5 ====================\n",
      "[0]\tvalidation_0-rmse:0.94561\n",
      "[100]\tvalidation_0-rmse:0.14217\n",
      "[200]\tvalidation_0-rmse:0.06210\n",
      "[300]\tvalidation_0-rmse:0.05929\n",
      "[400]\tvalidation_0-rmse:0.05916\n",
      "[500]\tvalidation_0-rmse:0.05917\n",
      "[556]\tvalidation_0-rmse:0.05917\n",
      "Fold 2:\n",
      "RMSE: 0.0592\n",
      "Training time: 14.34 seconds\n",
      "\n",
      "==================== Fold 4/5 ====================\n",
      "[0]\tvalidation_0-rmse:0.94566\n",
      "[100]\tvalidation_0-rmse:0.14200\n",
      "[200]\tvalidation_0-rmse:0.06385\n",
      "[300]\tvalidation_0-rmse:0.06147\n",
      "[400]\tvalidation_0-rmse:0.06140\n",
      "[472]\tvalidation_0-rmse:0.06143\n",
      "Fold 3:\n",
      "RMSE: 0.0614\n",
      "Training time: 13.15 seconds\n",
      "\n",
      "==================== Fold 5/5 ====================\n",
      "[0]\tvalidation_0-rmse:0.94521\n",
      "[100]\tvalidation_0-rmse:0.14177\n",
      "[200]\tvalidation_0-rmse:0.06258\n",
      "[300]\tvalidation_0-rmse:0.06002\n",
      "[400]\tvalidation_0-rmse:0.05995\n",
      "[480]\tvalidation_0-rmse:0.05997\n",
      "Fold 4:\n",
      "RMSE: 0.0599\n",
      "Training time: 22.42 seconds\n",
      "\n",
      "Average Fold RMSE: 0.0599\n",
      "Final CV RMSE: 0.0599\n"
     ]
    }
   ],
   "source": [
    "# Cross validation\n",
    "kf = KFold(n_splits=5, shuffle=True, random_state=52)\n",
    "\n",
    "rmse_scores = []\n",
    "test_predictions = np.zeros(len(X_test))\n",
    "oof_predictions = np.zeros(len(X))  # Out-of-fold predictions\n",
    "\n",
    "params = {\n",
    "    'max_depth': 10,\n",
    "    'colsample_bytree': 0.7,\n",
    "    'subsample': 0.9,\n",
    "    'n_estimators': 2000,\n",
    "    'learning_rate': 0.02,\n",
    "    'gamma': 0.01, \n",
    "    'max_delta_step': 2,\n",
    "    'eval_metric': \"rmse\",\n",
    "    'early_stopping_rounds':100,\n",
    "    'random_state': 42,\n",
    "    'enable_categorical': True\n",
    "}\n",
    "\n",
    "# Loop with cross validation\n",
    "for fold, (train_idx, val_idx) in enumerate(kf.split(X, y)):\n",
    "    print(f\"\\n{'='*20} Fold {fold+1}/{5} {'='*20}\")\n",
    "    # Split data\n",
    "    X_train, X_val = X.iloc[train_idx], X.iloc[val_idx]\n",
    "    y_train, y_val = y.iloc[train_idx], y.iloc[val_idx]\n",
    "    \n",
    "    start_time = time.time()\n",
    "    \n",
    "    # Model training\n",
    "    model = XGBRegressor(**params)\n",
    "    model.fit(\n",
    "        X_train, y_train,\n",
    "        eval_set=[(X_val, y_val)],\n",
    "        verbose=100\n",
    "        )\n",
    "    \n",
    "    # Validation predictions - store in out-of-fold array\n",
    "    fold_val_predictions = model.predict(X_val)\n",
    "    oof_predictions[val_idx] = fold_val_predictions\n",
    "    \n",
    "    # Test predictions\n",
    "    test_predictions += model.predict(X_test)\n",
    "    \n",
    "    # Metrics computation for this fold\n",
    "    fold_rmse = np.sqrt(mean_squared_error(y_val, fold_val_predictions))\n",
    "    rmse_scores.append(fold_rmse)\n",
    "    \n",
    "    elapsed_time = time.time() - start_time\n",
    "    \n",
    "    print(f\"Fold {fold}:\")\n",
    "    print(f\"RMSE: {fold_rmse:.4f}\")\n",
    "    print(f\"Training time: {elapsed_time:.2f} seconds\")\n",
    "\n",
    "# Average test predictions across all folds\n",
    "test_predictions /= 5\n",
    "\n",
    "# Calculate average RMSE across all folds\n",
    "avg_rmse = np.mean(rmse_scores)\n",
    "print(f\"\\nAverage Fold RMSE: {avg_rmse:.4f}\")\n",
    "\n",
    "# Calculate full CV RMSE using all out-of-fold predictions\n",
    "full_rmse = np.sqrt(mean_squared_error(y, oof_predictions))\n",
    "print(f\"Final CV RMSE: {full_rmse:.4f}\")"
   ]
  },
  {
   "cell_type": "markdown",
   "metadata": {},
   "source": [
    "## Submission "
   ]
  },
  {
   "cell_type": "code",
   "execution_count": 7,
   "metadata": {},
   "outputs": [
    {
     "name": "stdout",
     "output_type": "stream",
     "text": [
      "Fichier CSV enregistré : ../predictions/submissions/xgb_submission_2.csv\n",
      "Fichier NumPy enregistré : ../predictions/oof/xgb_oof_predictions_2.npy\n"
     ]
    }
   ],
   "source": [
    "import os \n",
    "\n",
    "\n",
    "submission = pd.read_csv('../../dataset/sample_submission.csv')\n",
    "test_predictions = np.expm1(test_predictions)\n",
    "\n",
    "i = 1 \n",
    "while os.path.exists(f\"../predictions/submissions/xgb_submission_{i}.csv\"):\n",
    "    i+=1\n",
    "\n",
    "submission[\"Calories\"] = test_predictions\n",
    "\n",
    "csv_filename = f\"../predictions/submissions/xgb_submission_{i}.csv\"\n",
    "submission.to_csv(csv_filename, index=False)\n",
    "print(f\"Fichier CSV enregistré : {csv_filename}\")\n",
    "\n",
    "npy_filename = f\"../predictions/oof/xgb_oof_predictions_{i}.npy\"\n",
    "np.save(npy_filename, oof_predictions)\n",
    "print(f\"Fichier NumPy enregistré : {npy_filename}\")"
   ]
  },
  {
   "cell_type": "code",
   "execution_count": null,
   "metadata": {},
   "outputs": [],
   "source": []
  }
 ],
 "metadata": {
  "kernelspec": {
   "display_name": "venv",
   "language": "python",
   "name": "python3"
  },
  "language_info": {
   "codemirror_mode": {
    "name": "ipython",
    "version": 3
   },
   "file_extension": ".py",
   "mimetype": "text/x-python",
   "name": "python",
   "nbconvert_exporter": "python",
   "pygments_lexer": "ipython3",
   "version": "3.12.3"
  }
 },
 "nbformat": 4,
 "nbformat_minor": 2
}
